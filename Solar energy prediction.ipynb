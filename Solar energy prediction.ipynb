{
 "cells": [
  {
   "cell_type": "markdown",
   "id": "cb33bfcc",
   "metadata": {},
   "source": [
    "# Import data"
   ]
  },
  {
   "cell_type": "code",
   "execution_count": null,
   "id": "e80f8d13",
   "metadata": {},
   "outputs": [],
   "source": [
    "import pandas as pd\n",
    "import numpy as np\n",
    "import seaborn as sns \n",
    "import matplotlib.pyplot as plt\n",
    "%matplotlib inline "
   ]
  },
  {
   "cell_type": "code",
   "execution_count": null,
   "id": "35c1b846",
   "metadata": {},
   "outputs": [],
   "source": [
    "generation_data = pd.read_csv('Data\\\\Plant_1_Generation_Data.csv')\n",
    "weather_data = pd.read_csv('Data\\\\Plant_1_Weather_Sensor_Data.csv')"
   ]
  },
  {
   "cell_type": "code",
   "execution_count": null,
   "id": "2a37fcfe",
   "metadata": {},
   "outputs": [],
   "source": [
    "generation_data.head()"
   ]
  },
  {
   "cell_type": "code",
   "execution_count": null,
   "id": "037258fc",
   "metadata": {},
   "outputs": [],
   "source": [
    "weather_data.head()"
   ]
  },
  {
   "cell_type": "code",
   "execution_count": null,
   "id": "d004c423",
   "metadata": {},
   "outputs": [],
   "source": [
    "generation_data.sample(5).style.set_properties(\n",
    "    **{\n",
    "        'background-color': 'orange',\n",
    "        'color': 'black',\n",
    "        'border-color': 'darkblack'\n",
    "    })\n"
   ]
  },
  {
   "cell_type": "code",
   "execution_count": null,
   "id": "4377c915",
   "metadata": {},
   "outputs": [],
   "source": [
    "weather_data.sample(5).style.set_properties(\n",
    "    **{\n",
    "        'background-color': 'olive',\n",
    "        'color': 'Black',\n",
    "        'border-color': 'darkblack'\n",
    "    })"
   ]
  },
  {
   "cell_type": "markdown",
   "id": "454a59c8",
   "metadata": {},
   "source": [
    "# Adjust datetime format"
   ]
  },
  {
   "cell_type": "code",
   "execution_count": null,
   "id": "ba11e374",
   "metadata": {},
   "outputs": [],
   "source": [
    "generation_data['DATE'] = pd.to_datetime(generation_data['DATE_TIME']).dt.date\n",
    "generation_data['TIME'] = pd.to_datetime(generation_data['DATE_TIME']).dt.time\n",
    "weather_data['DATE'] = pd.to_datetime(weather_data['DATE_TIME']).dt.date\n",
    "weather_data['TIME'] = pd.to_datetime(weather_data['DATE_TIME']).dt.time"
   ]
  },
  {
   "cell_type": "code",
   "execution_count": null,
   "id": "45748548",
   "metadata": {},
   "outputs": [],
   "source": [
    "generation_data['DATE_TIME'] = generation_data[\"DATE\"].astype(str) + \" \" + generation_data[\"TIME\"].astype(str)"
   ]
  },
  {
   "cell_type": "code",
   "execution_count": null,
   "id": "0f3e192a",
   "metadata": {},
   "outputs": [],
   "source": [
    "weather_data['DATE_TIME'] = weather_data[\"DATE\"].astype(str) + \" \" + weather_data[\"TIME\"].astype(str)"
   ]
  },
  {
   "cell_type": "code",
   "execution_count": null,
   "id": "4f026df6",
   "metadata": {},
   "outputs": [],
   "source": [
    "generation_data"
   ]
  },
  {
   "cell_type": "code",
   "execution_count": null,
   "id": "a0c615eb",
   "metadata": {
    "scrolled": false
   },
   "outputs": [],
   "source": [
    "weather_data"
   ]
  },
  {
   "cell_type": "code",
   "execution_count": null,
   "id": "9d955517",
   "metadata": {},
   "outputs": [],
   "source": [
    "del generation_data['DATE']\n",
    "del generation_data['TIME']\n",
    "del weather_data['DATE']\n",
    "del weather_data['TIME']"
   ]
  },
  {
   "cell_type": "markdown",
   "id": "cd78748f",
   "metadata": {},
   "source": [
    "# Converting object date_time into daytime stamping"
   ]
  },
  {
   "cell_type": "code",
   "execution_count": null,
   "id": "6cf9ac29",
   "metadata": {},
   "outputs": [],
   "source": [
    "generation_data['DATE_TIME'] =  pd.to_datetime(generation_data['DATE_TIME'], format='%Y-%m-%d')"
   ]
  },
  {
   "cell_type": "code",
   "execution_count": null,
   "id": "53247ce4",
   "metadata": {},
   "outputs": [],
   "source": [
    "generation_data.info()"
   ]
  },
  {
   "cell_type": "code",
   "execution_count": null,
   "id": "f36bdd4a",
   "metadata": {},
   "outputs": [],
   "source": [
    "weather_data.info()"
   ]
  },
  {
   "cell_type": "code",
   "execution_count": null,
   "id": "9bcd3772",
   "metadata": {},
   "outputs": [],
   "source": [
    "weather_data['DATE_TIME'] =  pd.to_datetime(weather_data['DATE_TIME'], format='%Y-%m-%d')"
   ]
  },
  {
   "cell_type": "code",
   "execution_count": null,
   "id": "2d664aa7",
   "metadata": {},
   "outputs": [],
   "source": [
    "weather_data.info()"
   ]
  },
  {
   "cell_type": "markdown",
   "id": "1e7f9c75",
   "metadata": {},
   "source": [
    "\n",
    "# Merging generation data and weather sensor data"
   ]
  },
  {
   "cell_type": "code",
   "execution_count": null,
   "id": "205ab73e",
   "metadata": {},
   "outputs": [],
   "source": [
    "df_solar = pd.merge(generation_data.drop(columns = ['PLANT_ID']), weather_data.drop(columns = ['PLANT_ID', 'SOURCE_KEY']), on='DATE_TIME')\n",
    "df_solar.sample(5).style.background_gradient(cmap='cool')"
   ]
  },
  {
   "cell_type": "markdown",
   "id": "e7f35407",
   "metadata": {},
   "source": [
    "# Adding separate time and date columns"
   ]
  },
  {
   "cell_type": "code",
   "execution_count": null,
   "id": "a9d080d8",
   "metadata": {},
   "outputs": [],
   "source": [
    "# adding separate time and date columns\n",
    "df_solar[\"DATE\"] = pd.to_datetime(df_solar[\"DATE_TIME\"]).dt.date\n",
    "df_solar[\"TIME\"] = pd.to_datetime(df_solar[\"DATE_TIME\"]).dt.time\n",
    "df_solar['DAY'] = pd.to_datetime(df_solar['DATE_TIME']).dt.day\n",
    "df_solar['MONTH'] = pd.to_datetime(df_solar['DATE_TIME']).dt.month\n",
    "df_solar['WEEK'] = pd.to_datetime(df_solar['DATE_TIME']).dt.isocalendar().week\n",
    "\n",
    "\n",
    "# add hours and minutes for ml models\n",
    "df_solar['HOURS'] = pd.to_datetime(df_solar['TIME'],format='%H:%M:%S').dt.hour\n",
    "df_solar['MINUTES'] = pd.to_datetime(df_solar['TIME'],format='%H:%M:%S').dt.minute\n",
    "df_solar['TOTAL MINUTES PASS'] = df_solar['MINUTES'] + (df_solar['HOURS']*60)\n",
    "\n",
    "# add date as string column\n",
    "df_solar[\"DATE_STRING\"] = df_solar[\"DATE\"].astype(str) # add column with date as string\n",
    "df_solar[\"HOURS\"] = df_solar[\"HOURS\"].astype(str)\n",
    "df_solar[\"TIME\"] = df_solar[\"TIME\"].astype(str)\n",
    "\n",
    "df_solar.head(5)"
   ]
  },
  {
   "cell_type": "code",
   "execution_count": null,
   "id": "597e68b7",
   "metadata": {},
   "outputs": [],
   "source": [
    "df_solar.info()"
   ]
  },
  {
   "cell_type": "markdown",
   "id": "498892f3",
   "metadata": {},
   "source": [
    "# There are no missing data"
   ]
  },
  {
   "cell_type": "code",
   "execution_count": null,
   "id": "cce5e5fe",
   "metadata": {},
   "outputs": [],
   "source": [
    "df_solar.describe().style.background_gradient(cmap='rainbow')"
   ]
  },
  {
   "cell_type": "markdown",
   "id": "6b914061",
   "metadata": {},
   "source": [
    "# Converting 'SOURCE_KEY' from categorical form to numerical form"
   ]
  },
  {
   "cell_type": "code",
   "execution_count": null,
   "id": "8869e102",
   "metadata": {
    "scrolled": false
   },
   "outputs": [],
   "source": [
    "from sklearn.preprocessing import LabelEncoder\n",
    "encoder = LabelEncoder()\n",
    "df_solar['SOURCE_KEY_NUMBER'] = encoder.fit_transform(df_solar['SOURCE_KEY'])\n",
    "df_solar"
   ]
  },
  {
   "cell_type": "markdown",
   "id": "3e2ed86c",
   "metadata": {},
   "source": [
    "\n",
    "\n",
    "# EDA"
   ]
  },
  {
   "cell_type": "markdown",
   "id": "34f429b3",
   "metadata": {},
   "source": [
    "# Correlation"
   ]
  },
  {
   "cell_type": "code",
   "execution_count": null,
   "id": "0c19e844",
   "metadata": {},
   "outputs": [],
   "source": []
  },
  {
   "cell_type": "code",
   "execution_count": null,
   "id": "8fbf3906",
   "metadata": {},
   "outputs": [],
   "source": [
    "df_solar.corr().style.background_gradient(cmap='rainbow')"
   ]
  },
  {
   "cell_type": "code",
   "execution_count": null,
   "id": "832eb85b",
   "metadata": {},
   "outputs": [],
   "source": [
    "sns.pairplot(df_solar)"
   ]
  },
  {
   "cell_type": "code",
   "execution_count": null,
   "id": "de95487a",
   "metadata": {},
   "outputs": [],
   "source": [
    "plt.scatter(df_solar['IRRADIATION'],df_solar['DC_POWER'])\n",
    "plt.xlabel(\"IRRADIATION\")\n",
    "plt.ylabel(\"DC_POWER\")"
   ]
  },
  {
   "cell_type": "code",
   "execution_count": null,
   "id": "7afe9402",
   "metadata": {},
   "outputs": [],
   "source": [
    "sns.regplot(x=\"IRRADIATION\",y=\"DC_POWER\",data=df_solar)"
   ]
  },
  {
   "cell_type": "markdown",
   "id": "8d9f0a6c",
   "metadata": {},
   "source": [
    "# Solar Power Prediction using different ML techniques"
   ]
  },
  {
   "cell_type": "code",
   "execution_count": null,
   "id": "d3e9ffa3",
   "metadata": {},
   "outputs": [],
   "source": [
    "df2 = df_solar.copy()\n",
    "X = df2[['DAILY_YIELD','TOTAL_YIELD','AMBIENT_TEMPERATURE','MODULE_TEMPERATURE','IRRADIATION','DC_POWER']]\n",
    "y = df2['AC_POWER']\n",
    "X.head()\n"
   ]
  },
  {
   "cell_type": "code",
   "execution_count": null,
   "id": "bde9f463",
   "metadata": {},
   "outputs": [],
   "source": [
    "y.head()"
   ]
  },
  {
   "cell_type": "code",
   "execution_count": null,
   "id": "9b978e76",
   "metadata": {},
   "outputs": [],
   "source": [
    "#train test split\n",
    "from sklearn.model_selection import train_test_split\n",
    "X_train,X_test,y_train,y_test = train_test_split(X,y,test_size=.2,random_state=21)"
   ]
  },
  {
   "cell_type": "code",
   "execution_count": null,
   "id": "59ab5124",
   "metadata": {},
   "outputs": [],
   "source": [
    "#Standardize the dataset-gradient desent - global minimum\n",
    "from sklearn.preprocessing import StandardScaler\n",
    "scaler=StandardScaler()"
   ]
  },
  {
   "cell_type": "code",
   "execution_count": null,
   "id": "e6fc9c1e",
   "metadata": {},
   "outputs": [],
   "source": [
    "X_train=scaler.fit_transform(X_train)"
   ]
  },
  {
   "cell_type": "code",
   "execution_count": null,
   "id": "655ac215",
   "metadata": {},
   "outputs": [],
   "source": [
    "X_test=scaler.transform(X_test)"
   ]
  },
  {
   "cell_type": "code",
   "execution_count": null,
   "id": "a6528e22",
   "metadata": {},
   "outputs": [],
   "source": [
    "import pickle\n",
    "pickle.dump(scaler,open('scaling.pkl','wb'))"
   ]
  },
  {
   "cell_type": "markdown",
   "id": "7a74272c",
   "metadata": {},
   "source": [
    "# Model Traning"
   ]
  },
  {
   "cell_type": "code",
   "execution_count": null,
   "id": "e53f285f",
   "metadata": {},
   "outputs": [],
   "source": [
    "from sklearn.linear_model import LinearRegression\n"
   ]
  },
  {
   "cell_type": "code",
   "execution_count": null,
   "id": "1211b991",
   "metadata": {},
   "outputs": [],
   "source": [
    "regression=LinearRegression()"
   ]
  },
  {
   "cell_type": "code",
   "execution_count": 71,
   "id": "afd25fe9",
   "metadata": {},
   "outputs": [
    {
     "data": {
      "text/html": [
       "<style>#sk-container-id-2 {color: black;background-color: white;}#sk-container-id-2 pre{padding: 0;}#sk-container-id-2 div.sk-toggleable {background-color: white;}#sk-container-id-2 label.sk-toggleable__label {cursor: pointer;display: block;width: 100%;margin-bottom: 0;padding: 0.3em;box-sizing: border-box;text-align: center;}#sk-container-id-2 label.sk-toggleable__label-arrow:before {content: \"▸\";float: left;margin-right: 0.25em;color: #696969;}#sk-container-id-2 label.sk-toggleable__label-arrow:hover:before {color: black;}#sk-container-id-2 div.sk-estimator:hover label.sk-toggleable__label-arrow:before {color: black;}#sk-container-id-2 div.sk-toggleable__content {max-height: 0;max-width: 0;overflow: hidden;text-align: left;background-color: #f0f8ff;}#sk-container-id-2 div.sk-toggleable__content pre {margin: 0.2em;color: black;border-radius: 0.25em;background-color: #f0f8ff;}#sk-container-id-2 input.sk-toggleable__control:checked~div.sk-toggleable__content {max-height: 200px;max-width: 100%;overflow: auto;}#sk-container-id-2 input.sk-toggleable__control:checked~label.sk-toggleable__label-arrow:before {content: \"▾\";}#sk-container-id-2 div.sk-estimator input.sk-toggleable__control:checked~label.sk-toggleable__label {background-color: #d4ebff;}#sk-container-id-2 div.sk-label input.sk-toggleable__control:checked~label.sk-toggleable__label {background-color: #d4ebff;}#sk-container-id-2 input.sk-hidden--visually {border: 0;clip: rect(1px 1px 1px 1px);clip: rect(1px, 1px, 1px, 1px);height: 1px;margin: -1px;overflow: hidden;padding: 0;position: absolute;width: 1px;}#sk-container-id-2 div.sk-estimator {font-family: monospace;background-color: #f0f8ff;border: 1px dotted black;border-radius: 0.25em;box-sizing: border-box;margin-bottom: 0.5em;}#sk-container-id-2 div.sk-estimator:hover {background-color: #d4ebff;}#sk-container-id-2 div.sk-parallel-item::after {content: \"\";width: 100%;border-bottom: 1px solid gray;flex-grow: 1;}#sk-container-id-2 div.sk-label:hover label.sk-toggleable__label {background-color: #d4ebff;}#sk-container-id-2 div.sk-serial::before {content: \"\";position: absolute;border-left: 1px solid gray;box-sizing: border-box;top: 0;bottom: 0;left: 50%;z-index: 0;}#sk-container-id-2 div.sk-serial {display: flex;flex-direction: column;align-items: center;background-color: white;padding-right: 0.2em;padding-left: 0.2em;position: relative;}#sk-container-id-2 div.sk-item {position: relative;z-index: 1;}#sk-container-id-2 div.sk-parallel {display: flex;align-items: stretch;justify-content: center;background-color: white;position: relative;}#sk-container-id-2 div.sk-item::before, #sk-container-id-2 div.sk-parallel-item::before {content: \"\";position: absolute;border-left: 1px solid gray;box-sizing: border-box;top: 0;bottom: 0;left: 50%;z-index: -1;}#sk-container-id-2 div.sk-parallel-item {display: flex;flex-direction: column;z-index: 1;position: relative;background-color: white;}#sk-container-id-2 div.sk-parallel-item:first-child::after {align-self: flex-end;width: 50%;}#sk-container-id-2 div.sk-parallel-item:last-child::after {align-self: flex-start;width: 50%;}#sk-container-id-2 div.sk-parallel-item:only-child::after {width: 0;}#sk-container-id-2 div.sk-dashed-wrapped {border: 1px dashed gray;margin: 0 0.4em 0.5em 0.4em;box-sizing: border-box;padding-bottom: 0.4em;background-color: white;}#sk-container-id-2 div.sk-label label {font-family: monospace;font-weight: bold;display: inline-block;line-height: 1.2em;}#sk-container-id-2 div.sk-label-container {text-align: center;}#sk-container-id-2 div.sk-container {/* jupyter's `normalize.less` sets `[hidden] { display: none; }` but bootstrap.min.css set `[hidden] { display: none !important; }` so we also need the `!important` here to be able to override the default hidden behavior on the sphinx rendered scikit-learn.org. See: https://github.com/scikit-learn/scikit-learn/issues/21755 */display: inline-block !important;position: relative;}#sk-container-id-2 div.sk-text-repr-fallback {display: none;}</style><div id=\"sk-container-id-2\" class=\"sk-top-container\"><div class=\"sk-text-repr-fallback\"><pre>LinearRegression()</pre><b>In a Jupyter environment, please rerun this cell to show the HTML representation or trust the notebook. <br />On GitHub, the HTML representation is unable to render, please try loading this page with nbviewer.org.</b></div><div class=\"sk-container\" hidden><div class=\"sk-item\"><div class=\"sk-estimator sk-toggleable\"><input class=\"sk-toggleable__control sk-hidden--visually\" id=\"sk-estimator-id-2\" type=\"checkbox\" checked><label for=\"sk-estimator-id-2\" class=\"sk-toggleable__label sk-toggleable__label-arrow\">LinearRegression</label><div class=\"sk-toggleable__content\"><pre>LinearRegression()</pre></div></div></div></div></div>"
      ],
      "text/plain": [
       "LinearRegression()"
      ]
     },
     "execution_count": 71,
     "metadata": {},
     "output_type": "execute_result"
    }
   ],
   "source": [
    "regression.fit(X_train,y_train)"
   ]
  },
  {
   "cell_type": "code",
   "execution_count": 37,
   "id": "44954e74",
   "metadata": {},
   "outputs": [
    {
     "name": "stdout",
     "output_type": "stream",
     "text": [
      "[-1.78630123e-01 -9.89300452e-04 -1.48718082e-02  1.09742958e+00\n",
      " -1.74856771e+00  3.99140723e+02]\n"
     ]
    }
   ],
   "source": [
    "##print the cooefficients and intercepts\n",
    "print(regression.coef_)"
   ]
  },
  {
   "cell_type": "code",
   "execution_count": 38,
   "id": "a9c605ef",
   "metadata": {},
   "outputs": [
    {
     "name": "stdout",
     "output_type": "stream",
     "text": [
      "312.1910883814101\n"
     ]
    }
   ],
   "source": [
    "print(regression.intercept_)"
   ]
  },
  {
   "cell_type": "code",
   "execution_count": 39,
   "id": "32c9ef9d",
   "metadata": {},
   "outputs": [
    {
     "data": {
      "text/plain": [
       "{'copy_X': True, 'fit_intercept': True, 'n_jobs': None, 'positive': False}"
      ]
     },
     "execution_count": 39,
     "metadata": {},
     "output_type": "execute_result"
    }
   ],
   "source": [
    "#on which parameters the model has been trained \n",
    "regression.get_params()"
   ]
  },
  {
   "cell_type": "code",
   "execution_count": 40,
   "id": "47c74237",
   "metadata": {},
   "outputs": [],
   "source": [
    "##prediction with test data\n",
    "reg_pred=regression.predict(X_test)"
   ]
  },
  {
   "cell_type": "code",
   "execution_count": 41,
   "id": "e4e116fb",
   "metadata": {},
   "outputs": [
    {
     "data": {
      "text/plain": [
       "array([3.75787802e-01, 1.86198007e+02, 9.70046094e+02, ...,\n",
       "       4.04346297e-02, 6.31338351e-02, 3.61140888e+02])"
      ]
     },
     "execution_count": 41,
     "metadata": {},
     "output_type": "execute_result"
    }
   ],
   "source": [
    "reg_pred"
   ]
  },
  {
   "cell_type": "code",
   "execution_count": 42,
   "id": "37c24ced",
   "metadata": {},
   "outputs": [
    {
     "data": {
      "text/plain": [
       "Text(0, 0.5, 'reg_pred')"
      ]
     },
     "execution_count": 42,
     "metadata": {},
     "output_type": "execute_result"
    },
    {
     "data": {
      "image/png": "[encoded data removed]",
      "text/plain": [
       "<Figure size 640x480 with 1 Axes>"
      ]
     },
     "metadata": {},
     "output_type": "display_data"
    }
   ],
   "source": [
    "##plot a scatter plot for prediction\n",
    "plt.scatter(y_test,reg_pred)\n",
    "plt.xlabel('y_test')\n",
    "plt.ylabel('reg_pred')"
   ]
  },
  {
   "cell_type": "code",
   "execution_count": 43,
   "id": "b2636790",
   "metadata": {},
   "outputs": [],
   "source": [
    "residuals=y_test-reg_pred"
   ]
  },
  {
   "cell_type": "code",
   "execution_count": 44,
   "id": "4206ece0",
   "metadata": {},
   "outputs": [
    {
     "data": {
      "text/plain": [
       "39704   -0.375788\n",
       "16578    0.126993\n",
       "38467    0.968191\n",
       "19471   -0.462818\n",
       "21836   -0.207144\n",
       "           ...   \n",
       "10459   -0.205915\n",
       "27264   -0.194904\n",
       "19030   -0.040435\n",
       "12827   -0.063134\n",
       "31753    1.909112\n",
       "Name: AC_POWER, Length: 9136, dtype: float64"
      ]
     },
     "execution_count": 44,
     "metadata": {},
     "output_type": "execute_result"
    }
   ],
   "source": [
    "residuals"
   ]
  },
  {
   "cell_type": "code",
   "execution_count": 45,
   "id": "07c541c7",
   "metadata": {},
   "outputs": [
    {
     "data": {
      "text/plain": [
       "<seaborn.axisgrid.FacetGrid at 0x210ff386290>"
      ]
     },
     "execution_count": 45,
     "metadata": {},
     "output_type": "execute_result"
    },
    {
     "data": {
      "image/png": "[encoded data removed]",
      "text/plain": [
       "<Figure size 500x500 with 1 Axes>"
      ]
     },
     "metadata": {},
     "output_type": "display_data"
    }
   ],
   "source": [
    "## ploting residuals\n",
    "sns.displot(residuals,kind=\"kde\")"
   ]
  },
  {
   "cell_type": "code",
   "execution_count": 46,
   "id": "c78c3b25",
   "metadata": {},
   "outputs": [
    {
     "data": {
      "text/plain": [
       "Text(0, 0.5, 'residuals')"
      ]
     },
     "execution_count": 46,
     "metadata": {},
     "output_type": "execute_result"
    },
    {
     "data": {
      "image/png": "[encoded data removed]",
      "text/plain": [
       "<Figure size 640x480 with 1 Axes>"
      ]
     },
     "metadata": {},
     "output_type": "display_data"
    }
   ],
   "source": [
    "## scatter plot wrt prediction and residuals\n",
    "plt.scatter(reg_pred,residuals)\n",
    "plt.xlabel('reg_pred')\n",
    "plt.ylabel('residuals')"
   ]
  },
  {
   "cell_type": "code",
   "execution_count": 47,
   "id": "68d02270",
   "metadata": {},
   "outputs": [],
   "source": [
    "from sklearn.metrics import mean_squared_error\n",
    "from sklearn.metrics import mean_absolute_error"
   ]
  },
  {
   "cell_type": "code",
   "execution_count": 48,
   "id": "9fef428e",
   "metadata": {},
   "outputs": [
    {
     "name": "stdout",
     "output_type": "stream",
     "text": [
      "0.6604659576253403\n",
      "0.9211669396181934\n",
      "0.812690566959738\n"
     ]
    }
   ],
   "source": [
    "print(mean_absolute_error(y_test,reg_pred))\n",
    "print(mean_squared_error(y_test,reg_pred))\n",
    "print(np.sqrt(mean_absolute_error(y_test,reg_pred)))"
   ]
  },
  {
   "cell_type": "markdown",
   "id": "c8422069",
   "metadata": {},
   "source": [
    "# R square and adjusted R square"
   ]
  },
  {
   "cell_type": "code",
   "execution_count": 49,
   "id": "5d3ead80",
   "metadata": {},
   "outputs": [],
   "source": [
    "## Formula \n",
    "## R^2=1-SSR/SST\n",
    "## R^2= coefficient of determination SSR= sum of squares of residuals SST = total sum of square"
   ]
  },
  {
   "cell_type": "code",
   "execution_count": 50,
   "id": "93dd7d91",
   "metadata": {},
   "outputs": [
    {
     "name": "stdout",
     "output_type": "stream",
     "text": [
      "R2 Score :  100.0 %\n"
     ]
    }
   ],
   "source": [
    "from sklearn.metrics import r2_score\n",
    "score = round(r2_score(reg_pred,y_test) * 100, 2)\n",
    "\n",
    "print(\"R2 Score : \",score,\"%\")"
   ]
  },
  {
   "cell_type": "code",
   "execution_count": null,
   "id": "988b15a5",
   "metadata": {},
   "outputs": [],
   "source": []
  },
  {
   "cell_type": "code",
   "execution_count": 51,
   "id": "10465c22",
   "metadata": {},
   "outputs": [
    {
     "data": {
      "text/plain": [
       "100.06506736772921"
      ]
     },
     "execution_count": 51,
     "metadata": {},
     "output_type": "execute_result"
    }
   ],
   "source": [
    "# Adjusted R2=1-[(1-R2)*(n-1)(n-k-1)]\n",
    "## where:\n",
    "## R2: The R2 of the model n: The number of observations k: The number of prediction \n",
    "1-(1-score)*(len(y_test)-1)/(len(y_test)-X_test.shape[1]-1)"
   ]
  },
  {
   "cell_type": "markdown",
   "id": "9d6cbe42",
   "metadata": {},
   "source": [
    "# New Data prediction"
   ]
  },
  {
   "cell_type": "code",
   "execution_count": 74,
   "id": "98098edb",
   "metadata": {},
   "outputs": [],
   "source": [
    "# convert dataframe to numpy array\n",
    "df2_arr = X.to_numpy()\n",
    "print(df2_arr)\n"
   ]
  },
  {
   "cell_type": "code",
   "execution_count": 75,
   "id": "2d63b9f9",
   "metadata": {},
   "outputs": [
    {
     "data": {
      "text/plain": [
       "array([[0.00000000e+00, 6.25955900e+06, 2.51843161e+01, 2.28575074e+01,\n",
       "        0.00000000e+00, 0.00000000e+00]])"
      ]
     },
     "execution_count": 75,
     "metadata": {},
     "output_type": "execute_result"
    }
   ],
   "source": [
    "df2_arr[0].reshape(1,-1)"
   ]
  },
  {
   "cell_type": "code",
   "execution_count": null,
   "id": "159167b8",
   "metadata": {},
   "outputs": [],
   "source": []
  },
  {
   "cell_type": "code",
   "execution_count": 76,
   "id": "b697e881",
   "metadata": {},
   "outputs": [
    {
     "name": "stdout",
     "output_type": "stream",
     "text": [
      "[[-1.04803565 -1.66751616 -0.20475656 -0.71264989 -0.77250794 -0.78284768]]\n"
     ]
    },
    {
     "name": "stderr",
     "output_type": "stream",
     "text": [
      "C:\\Users\\biswa\\AppData\\Local\\Programs\\Python\\Python311\\Lib\\site-packages\\sklearn\\base.py:439: UserWarning: X does not have valid feature names, but StandardScaler was fitted with feature names\n",
      "  warnings.warn(\n",
      "C:\\Users\\biswa\\AppData\\Local\\Programs\\Python\\Python311\\Lib\\site-packages\\sklearn\\base.py:439: UserWarning: X does not have valid feature names, but StandardScaler was fitted with feature names\n",
      "  warnings.warn(\n"
     ]
    }
   ],
   "source": [
    "#Transformation of new data \n",
    "scaler.transform(df2_arr[0].reshape(1,-1))\n",
    "print(scaler.transform(df2_arr[0].reshape(1,-1)))"
   ]
  },
  {
   "cell_type": "code",
   "execution_count": 77,
   "id": "b10bfaaa",
   "metadata": {},
   "outputs": [
    {
     "name": "stderr",
     "output_type": "stream",
     "text": [
      "C:\\Users\\biswa\\AppData\\Local\\Programs\\Python\\Python311\\Lib\\site-packages\\sklearn\\base.py:439: UserWarning: X does not have valid feature names, but StandardScaler was fitted with feature names\n",
      "  warnings.warn(\n"
     ]
    },
    {
     "data": {
      "text/plain": [
       "array([0.48530349])"
      ]
     },
     "execution_count": 77,
     "metadata": {},
     "output_type": "execute_result"
    }
   ],
   "source": [
    "regression.predict(scaler.transform(df2_arr[0].reshape(1,-1)))"
   ]
  },
  {
   "cell_type": "markdown",
   "id": "52e0a38a",
   "metadata": {},
   "source": [
    "# Pickle The model file for development"
   ]
  },
  {
   "cell_type": "code",
   "execution_count": 56,
   "id": "3a435cf8",
   "metadata": {},
   "outputs": [],
   "source": [
    "import pickle"
   ]
  },
  {
   "cell_type": "code",
   "execution_count": 57,
   "id": "6abd6536",
   "metadata": {},
   "outputs": [],
   "source": [
    "pickle.dump(regression,open('regmodel.pkl','wb'))"
   ]
  },
  {
   "cell_type": "code",
   "execution_count": 58,
   "id": "55c03114",
   "metadata": {},
   "outputs": [],
   "source": [
    "pickled_model=pickle.load(open('regmodel.pkl','rb'))"
   ]
  },
  {
   "cell_type": "code",
   "execution_count": 59,
   "id": "fd646760",
   "metadata": {},
   "outputs": [
    {
     "name": "stderr",
     "output_type": "stream",
     "text": [
      "C:\\Users\\biswa\\AppData\\Local\\Programs\\Python\\Python311\\Lib\\site-packages\\sklearn\\base.py:439: UserWarning: X does not have valid feature names, but StandardScaler was fitted with feature names\n",
      "  warnings.warn(\n"
     ]
    },
    {
     "data": {
      "text/plain": [
       "array([0.48530349])"
      ]
     },
     "execution_count": 59,
     "metadata": {},
     "output_type": "execute_result"
    }
   ],
   "source": [
    "## Prediction\n",
    "pickled_model.predict(scaler.transform(df2_arr[0].reshape(1,-1)))"
   ]
  },
  {
   "cell_type": "code",
   "execution_count": null,
   "id": "c59d095f",
   "metadata": {},
   "outputs": [],
   "source": []
  },
  {
   "cell_type": "code",
   "execution_count": null,
   "id": "20b5c959",
   "metadata": {},
   "outputs": [],
   "source": []
  },
  {
   "cell_type": "code",
   "execution_count": null,
   "id": "c8c6bd7f",
   "metadata": {},
   "outputs": [],
   "source": []
  }
 ],
 "metadata": {
  "kernelspec": {
   "display_name": "Python 3 (ipykernel)",
   "language": "python",
   "name": "python3"
  },
  "language_info": {
   "codemirror_mode": {
    "name": "ipython",
    "version": 3
   },
   "file_extension": ".py",
   "mimetype": "text/x-python",
   "name": "python",
   "nbconvert_exporter": "python",
   "pygments_lexer": "ipython3",
   "version": "3.11.2"
  }
 },
 "nbformat": 4,
 "nbformat_minor": 5
}
